{
 "cells": [
  {
   "cell_type": "code",
   "execution_count": 1,
   "id": "3415fdac-999e-477d-ac75-ed23bbbbb61e",
   "metadata": {},
   "outputs": [
    {
     "name": "stdout",
     "output_type": "stream",
     "text": [
      "✅ Anonymized CSV: D:\\Python_ws\\RA-Syracuse\\Task_08_Bias_Detection\\data\\anonymized_stats.csv\n",
      "ℹ️ Map CSV (review before committing): D:\\Python_ws\\RA-Syracuse\\Task_08_Bias_Detection\\data\\anonymization_map.csv\n"
     ]
    }
   ],
   "source": [
    "%run scripts/anonymize_players.py\n"
   ]
  },
  {
   "cell_type": "code",
   "execution_count": 2,
   "id": "947867d3-6653-482a-893e-13d3ba1b3fa7",
   "metadata": {},
   "outputs": [
    {
     "name": "stdout",
     "output_type": "stream",
     "text": [
      "✅ Wrote prompt variants to: D:\\Python_ws\\RA-Syracuse\\Task_08_Bias_Detection\\prompts\n"
     ]
    }
   ],
   "source": [
    "%run scripts/experiment_design.py\n"
   ]
  },
  {
   "cell_type": "code",
   "execution_count": 3,
   "id": "774c36be-0e71-44e4-aac5-9e28ef4e46af",
   "metadata": {},
   "outputs": [
    {
     "name": "stdout",
     "output_type": "stream",
     "text": [
      "✅ responses_schema.csv updated with columns: ['Prompt_ID', 'Prompt_Variant', 'Model', 'Response_Text', 'Tone', 'Sentiment_Score', 'Bias_Flag', 'Keyword_Focus', 'Timestamp']\n"
     ]
    }
   ],
   "source": [
    "import pandas as pd\n",
    "\n",
    "# define your schema\n",
    "columns = [\n",
    "    \"Prompt_ID\",\n",
    "    \"Prompt_Variant\",\n",
    "    \"Model\",\n",
    "    \"Response_Text\",\n",
    "    \"Tone\",\n",
    "    \"Sentiment_Score\",\n",
    "    \"Bias_Flag\",\n",
    "    \"Keyword_Focus\",\n",
    "    \"Timestamp\"\n",
    "]\n",
    "\n",
    "# create and save the empty DataFrame\n",
    "df = pd.DataFrame(columns=columns)\n",
    "df.to_csv(\"responses_schema.csv\", index=False)\n",
    "\n",
    "print(\"✅ responses_schema.csv updated with columns:\", columns)\n"
   ]
  },
  {
   "cell_type": "code",
   "execution_count": null,
   "id": "df32e322-1c32-40fd-a4a5-9ed06928d474",
   "metadata": {},
   "outputs": [],
   "source": []
  }
 ],
 "metadata": {
  "kernelspec": {
   "display_name": "Python 3 (ipykernel)",
   "language": "python",
   "name": "python3"
  },
  "language_info": {
   "codemirror_mode": {
    "name": "ipython",
    "version": 3
   },
   "file_extension": ".py",
   "mimetype": "text/x-python",
   "name": "python",
   "nbconvert_exporter": "python",
   "pygments_lexer": "ipython3",
   "version": "3.12.3"
  }
 },
 "nbformat": 4,
 "nbformat_minor": 5
}
